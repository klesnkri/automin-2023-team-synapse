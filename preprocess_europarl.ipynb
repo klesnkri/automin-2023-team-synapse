{
 "cells": [
  {
   "cell_type": "code",
   "execution_count": 564,
   "metadata": {},
   "outputs": [],
   "source": [
    "import os\n",
    "import re\n",
    "from lxml import etree\n",
    "import json\n",
    "\n",
    "OUTPUT_DIR = \"preprocessed_data/europarl\"\n",
    "\n",
    "TRAIN_DATA_PATH = '../../datasets/europarlmin/train/'\n",
    "DEV_DATA_PATH = '../../datasets/europarlmin/dev/'\n",
    "TEST_DATA_PATH = '../../datasets/automin-2023-data/Europarlmin/test1/'"
   ]
  },
  {
   "cell_type": "code",
   "execution_count": 565,
   "outputs": [],
   "source": [
    "def read_data_from_files(data_path):\n",
    "    transcripts = {}\n",
    "    data_folders = [os.path.basename(x[0]) for x in os.walk(data_path) if len(os.path.basename(x[0])) > 0]\n",
    "    for directory in sorted(data_folders):\n",
    "        for file_name in sorted(os.listdir(os.path.join(data_path, directory))):\n",
    "            file_path = os.path.join(data_path, directory, file_name)\n",
    "            with open(file_path, \"r\") as f:\n",
    "                if 'ep' in file_name:\n",
    "                    date = re.search('ep-(.+?).txt', file_name)[1]\n",
    "                    transcripts[date] = f.read().splitlines()\n",
    "    return transcripts"
   ],
   "metadata": {
    "collapsed": false,
    "pycharm": {
     "name": "#%%\n"
    }
   }
  },
  {
   "cell_type": "code",
   "execution_count": 581,
   "outputs": [],
   "source": [
    "def remove_tags(text):\n",
    "    # Paragraph tag\n",
    "    text = re.sub(r'^\\s*<P>\\s*$', '', text)\n",
    "    # Notes\n",
    "    text = re.sub(r'^\\s*\\(.+\\)\\s*$', '', text)\n",
    "    # Before the vote lines\n",
    "    text = \"\" if re.match(r\"^.*Before the.*vote.*$\", text) else text\n",
    "\n",
    "    return text\n",
    "\n",
    "def normalize_utterance(utterance):\n",
    "    # Remove info from start (before the first occurence of '. -' or '. –')\n",
    "    utterance = re.sub(r\"^.*?\\.\\s?(-|–)\", \"\", utterance)\n",
    "\n",
    "    # Remove lang code from start\n",
    "    utterance = re.sub(r\"^\\s*\\W*\\s*\\([A-Z][A-Z]\\)\\s*\\W*\\s*\", \"\", utterance)\n",
    "\n",
    "    # Remove punctuation from start\n",
    "    utterance = re.sub(r\"^\\s*\\W*\\s*\", \"\", utterance)\n",
    "\n",
    "    # Normalize whitespaces\n",
    "    utterance = \" \".join(utterance.split()).strip()\n",
    "\n",
    "    return utterance\n",
    "\n",
    "def preprocess_transcripts(transcripts):\n",
    "    preprocessed_transcripts = {}\n",
    "\n",
    "    for key, value in transcripts.items():\n",
    "        utterances = []\n",
    "        roles = []\n",
    "\n",
    "        # Remove tag lines\n",
    "        value = [remove_tags(line) for line in value]\n",
    "\n",
    "        speaker_details = {index: tag for index, tag in enumerate(value) if 'SPEAKER' in tag}\n",
    "        speaker_tag_indexes = list(speaker_details.keys())\n",
    "\n",
    "        for i in range(len(speaker_tag_indexes)):\n",
    "            current_index = speaker_tag_indexes[i]\n",
    "            next_speaker_index = speaker_tag_indexes[i+1] if i+1 < len(speaker_tag_indexes) else None\n",
    "            end_tag = '</SPEAKER>' if '/>' not in speaker_details[current_index] else ''\n",
    "            speaker_id = etree.fromstring(speaker_details[current_index]+end_tag).attrib['ID']\n",
    "\n",
    "            role = 'PERSON' + speaker_id\n",
    "            utterance = ' '.join(value[current_index+1: next_speaker_index])\n",
    "            utterance = normalize_utterance(utterance)\n",
    "\n",
    "            if len(utterance) > 0:\n",
    "                roles.append(role)\n",
    "                utterances.append(utterance)\n",
    "\n",
    "        assert len(utterances) == len(roles)\n",
    "        preprocessed_transcripts[key] = {\"roles\": roles, \"utterances\": utterances}\n",
    "\n",
    "    return preprocessed_transcripts"
   ],
   "metadata": {
    "collapsed": false,
    "pycharm": {
     "name": "#%%\n"
    }
   }
  },
  {
   "cell_type": "code",
   "execution_count": 582,
   "outputs": [],
   "source": [
    "def save_preprocessed_data(file_path, preprocessed_transcripts):\n",
    "    with open(file_path, 'w') as f:\n",
    "        json.dump(preprocessed_transcripts, f, indent=4, ensure_ascii=False)\n",
    "\n",
    "def preprocess_dataset(dataset_path, preprocessed_file_path):\n",
    "    transcripts = read_data_from_files(dataset_path)\n",
    "    preprocessed_transcripts =  preprocess_transcripts(transcripts)\n",
    "    save_preprocessed_data(preprocessed_file_path, preprocessed_transcripts)"
   ],
   "metadata": {
    "collapsed": false,
    "pycharm": {
     "name": "#%%\n"
    }
   }
  },
  {
   "cell_type": "code",
   "execution_count": 583,
   "metadata": {
    "pycharm": {
     "name": "#%%\n"
    }
   },
   "outputs": [],
   "source": [
    "preprocess_dataset(TRAIN_DATA_PATH, os.path.join(OUTPUT_DIR, \"train.json\"))\n",
    "preprocess_dataset(DEV_DATA_PATH, os.path.join(OUTPUT_DIR, \"dev.json\"))\n",
    "preprocess_dataset(TEST_DATA_PATH, os.path.join(OUTPUT_DIR, \"test1.json\"))"
   ]
  }
 ],
 "metadata": {
  "kernelspec": {
   "display_name": "Python 3 (ipykernel)",
   "language": "python",
   "name": "python3"
  },
  "language_info": {
   "codemirror_mode": {
    "name": "ipython",
    "version": 3
   },
   "file_extension": ".py",
   "mimetype": "text/x-python",
   "name": "python",
   "nbconvert_exporter": "python",
   "pygments_lexer": "ipython3",
   "version": "3.9.16"
  }
 },
 "nbformat": 4,
 "nbformat_minor": 2
}